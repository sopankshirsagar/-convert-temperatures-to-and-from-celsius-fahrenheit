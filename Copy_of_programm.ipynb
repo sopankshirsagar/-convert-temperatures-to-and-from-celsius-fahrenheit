{
  "nbformat": 4,
  "nbformat_minor": 0,
  "metadata": {
    "colab": {
      "provenance": [],
      "authorship_tag": "ABX9TyNNd3azYe+maidM3Ouoyzhz",
      "include_colab_link": true
    },
    "kernelspec": {
      "name": "python3",
      "display_name": "Python 3"
    },
    "language_info": {
      "name": "python"
    }
  },
  "cells": [
    {
      "cell_type": "markdown",
      "metadata": {
        "id": "view-in-github",
        "colab_type": "text"
      },
      "source": [
        "<a href=\"https://colab.research.google.com/github/sopankshirsagar/-convert-temperatures-to-and-from-celsius-fahrenheit/blob/main/Copy_of_programm.ipynb\" target=\"_parent\"><img src=\"https://colab.research.google.com/assets/colab-badge.svg\" alt=\"Open In Colab\"/></a>"
      ]
    },
    {
      "cell_type": "code",
      "execution_count": null,
      "metadata": {
        "id": "HMe5KYxBBEWD"
      },
      "outputs": [],
      "source": []
    },
    {
      "cell_type": "code",
      "source": [
        "import sys\n",
        "print(sys.version)"
      ],
      "metadata": {
        "colab": {
          "base_uri": "https://localhost:8080/"
        },
        "id": "YAK8GXu1BGTM",
        "outputId": "8709db51-da8e-4ef8-8f31-6ae60857514a"
      },
      "execution_count": null,
      "outputs": [
        {
          "output_type": "stream",
          "name": "stdout",
          "text": [
            "3.8.16 (default, Dec  7 2022, 01:12:13) \n",
            "[GCC 7.5.0]\n"
          ]
        }
      ]
    },
    {
      "cell_type": "code",
      "source": [
        "r=int(input(\"enter radius : \"))\n",
        "area=3.14*r*r\n",
        "print(area)"
      ],
      "metadata": {
        "colab": {
          "base_uri": "https://localhost:8080/"
        },
        "id": "bSc776ATBz0-",
        "outputId": "a9eb1736-95b9-4aab-f95f-f2eb191c0c14"
      },
      "execution_count": null,
      "outputs": [
        {
          "output_type": "stream",
          "name": "stdout",
          "text": [
            "enter radius : 1\n",
            "3.14\n"
          ]
        }
      ]
    },
    {
      "cell_type": "markdown",
      "source": [
        "5. Write a Python program which accepts the user's first and last name and print them in reverse order with a space between them."
      ],
      "metadata": {
        "id": "bZ7-0NVRCg8o"
      }
    },
    {
      "cell_type": "code",
      "source": [
        "fname=input(\"enter first name \")\n",
        "lname=input(\":enter last namr\" )\n",
        "print(lname,\" \",fname)\n",
        "\n"
      ],
      "metadata": {
        "id": "Fd0y2JqOCiY1"
      },
      "execution_count": null,
      "outputs": []
    },
    {
      "cell_type": "markdown",
      "source": [
        "6. Write a Python program which accepts a sequence of comma-separated numbers from user and generate a list and a tuple with those numbers."
      ],
      "metadata": {
        "id": "x0eGTvvCEfKI"
      }
    },
    {
      "cell_type": "code",
      "source": [
        "num=(input(\"enter coma separated numbers : \"))\n",
        "\n",
        "l1=(num.split(\",\"))\n",
        "tp=tuple(l1)\n",
        "print(l1)\n",
        "print(tp)\n"
      ],
      "metadata": {
        "colab": {
          "base_uri": "https://localhost:8080/"
        },
        "id": "F8NAU7qVEi6_",
        "outputId": "aff5b749-d5a8-4d2a-f072-c123db8206db"
      },
      "execution_count": null,
      "outputs": [
        {
          "output_type": "stream",
          "name": "stdout",
          "text": [
            "enter coma separated numbers : 23,43,45,65,77,65\n",
            "['23', '43', '45', '65', '77', '65']\n",
            "('23', '43', '45', '65', '77', '65')\n"
          ]
        }
      ]
    },
    {
      "cell_type": "markdown",
      "source": [
        "7. Write a Python program to accept a filename from the user and print the extension of that. Go to the editor\n",
        "Sample filename"
      ],
      "metadata": {
        "id": "LbsS3ELYGLOq"
      }
    },
    {
      "cell_type": "code",
      "source": [
        "filename=input(\"what is your file name : \")\n",
        "ext=filename.split(\".\")\n",
        "print(\"extention is \",ext[-1])"
      ],
      "metadata": {
        "colab": {
          "base_uri": "https://localhost:8080/"
        },
        "id": "BHvUqDLcGNvm",
        "outputId": "479420d8-1246-4e47-da72-04361285d3bb"
      },
      "execution_count": null,
      "outputs": [
        {
          "output_type": "stream",
          "name": "stdout",
          "text": [
            "what is your file name : sopan.py\n",
            "extention is  py\n"
          ]
        }
      ]
    },
    {
      "cell_type": "markdown",
      "source": [
        "\n",
        "8. Write a Python program to display the first and last colors from the following list\n",
        "color_list = [\"Red\",\"Green\",\"White\" ,\"Black\"]"
      ],
      "metadata": {
        "id": "DmxFwL_RHNZy"
      }
    },
    {
      "cell_type": "code",
      "source": [
        "color_list=[\"Red\",\"Green\",\"White\" ,\"Black\"]\n",
        "print(color_list[0],color_list[-1])"
      ],
      "metadata": {
        "colab": {
          "base_uri": "https://localhost:8080/"
        },
        "id": "Ps7Ig4nAHXzR",
        "outputId": "e52090e8-9e90-4749-a403-e7bca4b7ba90"
      },
      "execution_count": null,
      "outputs": [
        {
          "output_type": "stream",
          "name": "stdout",
          "text": [
            "Red Black\n"
          ]
        }
      ]
    }
  ]
}