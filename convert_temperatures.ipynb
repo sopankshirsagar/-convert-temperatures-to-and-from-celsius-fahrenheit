{
  "nbformat": 4,
  "nbformat_minor": 0,
  "metadata": {
    "colab": {
      "provenance": [],
      "authorship_tag": "ABX9TyOWlkRYJcahujpuY/E/Evoa",
      "include_colab_link": true
    },
    "kernelspec": {
      "name": "python3",
      "display_name": "Python 3"
    },
    "language_info": {
      "name": "python"
    }
  },
  "cells": [
    {
      "cell_type": "markdown",
      "metadata": {
        "id": "view-in-github",
        "colab_type": "text"
      },
      "source": [
        "<a href=\"https://colab.research.google.com/github/sopankshirsagar/-convert-temperatures-to-and-from-celsius-fahrenheit/blob/main/convert_temperatures.ipynb\" target=\"_parent\"><img src=\"https://colab.research.google.com/assets/colab-badge.svg\" alt=\"Open In Colab\"/></a>"
      ]
    },
    {
      "cell_type": "code",
      "execution_count": null,
      "metadata": {
        "id": "JroJoSZOYRzL"
      },
      "outputs": [],
      "source": []
    },
    {
      "cell_type": "markdown",
      "source": [
        "\n",
        "## Python program to convert temperatures "
      ],
      "metadata": {
        "id": "HL2dc7g2YZWr"
      }
    },
    {
      "cell_type": "code",
      "source": [
        "temp=input(\"enter temperature in (fahrenheit or celsius) : \") \n",
        "dgr=int(temp[:-1])\n",
        "unit=temp[-1]\n",
        "if unit.upper()==\"C\":\n",
        "    result=int(round(9*dgr+(32*5))/5)\n",
        "    unit=\"Fahrenheit\"\n",
        "elif unit.upper()==\"F\":\n",
        "    result=int(round((dgr-32)*5/9))\n",
        "    unit=\"Celsius\"\n",
        "else:\n",
        "    print(\"enter proper inputt \")\n",
        "    quit()\n",
        "print(\"the temperature in \",unit,\"is\",result)"
      ],
      "metadata": {
        "colab": {
          "base_uri": "https://localhost:8080/"
        },
        "id": "JYrPWl5-Ylhh",
        "outputId": "450c0410-c319-42d9-e2c3-ec7274f92902"
      },
      "execution_count": 3,
      "outputs": [
        {
          "output_type": "stream",
          "name": "stdout",
          "text": [
            "enter temperature in fahrenheit or ceilcius 65f\n",
            "the temperature in  Celsius is 18\n"
          ]
        }
      ]
    }
  ]
}